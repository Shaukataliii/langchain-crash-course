{
 "cells": [
  {
   "cell_type": "markdown",
   "metadata": {},
   "source": [
    "## Setup"
   ]
  },
  {
   "cell_type": "code",
   "execution_count": 3,
   "metadata": {},
   "outputs": [
    {
     "name": "stderr",
     "output_type": "stream",
     "text": [
      "c:\\Users\\Dmm\\anaconda3\\envs\\langchain\\Lib\\site-packages\\tqdm\\auto.py:21: TqdmWarning: IProgress not found. Please update jupyter and ipywidgets. See https://ipywidgets.readthedocs.io/en/stable/user_install.html\n",
      "  from .autonotebook import tqdm as notebook_tqdm\n"
     ]
    }
   ],
   "source": [
    "import google.generativeai as genai\n",
    "from langchain_google_genai import GoogleGenerativeAI\n",
    "import os\n",
    "from dotenv import load_dotenv"
   ]
  },
  {
   "cell_type": "code",
   "execution_count": 4,
   "metadata": {},
   "outputs": [
    {
     "data": {
      "text/plain": [
       "True"
      ]
     },
     "execution_count": 4,
     "metadata": {},
     "output_type": "execute_result"
    }
   ],
   "source": [
    "load_dotenv()"
   ]
  },
  {
   "cell_type": "markdown",
   "metadata": {},
   "source": [
    "## Using LLM"
   ]
  },
  {
   "cell_type": "markdown",
   "metadata": {},
   "source": [
    "### Using Google"
   ]
  },
  {
   "cell_type": "code",
   "execution_count": 24,
   "metadata": {},
   "outputs": [
    {
     "name": "stdout",
     "output_type": "stream",
     "text": [
      "models/chat-bison-001\n",
      "models/text-bison-001\n",
      "models/embedding-gecko-001\n",
      "models/gemini-1.0-pro-latest\n",
      "models/gemini-1.0-pro\n",
      "models/gemini-pro\n",
      "models/gemini-1.0-pro-001\n",
      "models/gemini-1.0-pro-vision-latest\n",
      "models/gemini-pro-vision\n",
      "models/gemini-1.5-pro-latest\n",
      "models/gemini-1.5-pro-001\n",
      "models/gemini-1.5-pro\n",
      "models/gemini-1.5-pro-exp-0801\n",
      "models/gemini-1.5-pro-exp-0827\n",
      "models/gemini-1.5-flash-latest\n",
      "models/gemini-1.5-flash-001\n",
      "models/gemini-1.5-flash-001-tuning\n",
      "models/gemini-1.5-flash\n",
      "models/gemini-1.5-flash-exp-0827\n",
      "models/gemini-1.5-flash-8b-exp-0827\n",
      "models/embedding-001\n",
      "models/text-embedding-004\n",
      "models/aqa\n"
     ]
    }
   ],
   "source": [
    "for model in genai.list_models():\n",
    "    print(model.name)"
   ]
  },
  {
   "cell_type": "code",
   "execution_count": 5,
   "metadata": {},
   "outputs": [],
   "source": [
    "gllm = GoogleGenerativeAI(model = 'gemini-1.5-flash', temperature=0.3)"
   ]
  },
  {
   "cell_type": "code",
   "execution_count": 26,
   "metadata": {},
   "outputs": [
    {
     "name": "stdout",
     "output_type": "stream",
     "text": [
      "\"Gen AI\" stands for **Generative Artificial Intelligence**. \n",
      "\n",
      "Here's a breakdown of what it means:\n",
      "\n",
      "* **Generative:** This refers to the AI's ability to create new content. This could be anything from text, code, images, music, to even videos. \n",
      "* **Artificial Intelligence:** This refers to the underlying technology that enables the system to learn patterns and generate new content based on that learning.\n",
      "\n",
      "**In essence, Gen AI systems are trained on massive datasets and learn to mimic the patterns and structures within that data. This allows them to generate new, original content that shares similar characteristics to the training data.**\n",
      "\n",
      "Here are some key characteristics of Gen AI:\n",
      "\n",
      "* **Creativity:** Gen AI can produce novel and unexpected outputs, often exhibiting a degree of creativity.\n",
      "* **Diversity:**  It can generate a wide range of content, spanning different modalities like text, images, and audio.\n",
      "* **Scalability:** Gen AI can produce large volumes of content quickly and efficiently.\n",
      "\n",
      "**Examples of Gen AI applications:**\n",
      "\n",
      "* **Text Generation:** Chatbots, language translation, writing assistance tools like Grammarly or Jasper.\n",
      "* **Image Generation:** Creating realistic images from text prompts (DALL-E 2, Stable Diffusion).\n",
      "* **Music Generation:** Composing new melodies and harmonies (Amper Music, Jukebox).\n",
      "* **Code Generation:**  Generating code in different programming languages (GitHub Copilot).\n",
      "\n",
      "**Gen AI is still a rapidly evolving field, but it holds immense potential to revolutionize various industries and aspects of our lives.** \n",
      "\n"
     ]
    }
   ],
   "source": [
    "response = gllm.invoke(\"What is the abbreviation of Gen. AI?\")\n",
    "print(response)"
   ]
  },
  {
   "cell_type": "markdown",
   "metadata": {},
   "source": [
    "### Using Hugging face"
   ]
  },
  {
   "cell_type": "code",
   "execution_count": 41,
   "metadata": {},
   "outputs": [],
   "source": [
    "from langchain_huggingface import HuggingFaceEndpoint"
   ]
  },
  {
   "cell_type": "code",
   "execution_count": 63,
   "metadata": {},
   "outputs": [
    {
     "name": "stdout",
     "output_type": "stream",
     "text": [
      "The token has not been saved to the git credentials helper. Pass `add_to_git_credential=True` in this function directly or `--add-to-git-credential` if using via `huggingface-cli` if you want to set the git credential as well.\n",
      "Token is valid (permission: read).\n",
      "Your token has been saved to C:\\Users\\Dmm\\.cache\\huggingface\\token\n",
      "Login successful\n"
     ]
    }
   ],
   "source": [
    "hf_llm = HuggingFaceEndpoint(repo_id=\"microsoft/Phi-3-mini-4k-instruct\", temperature= 0.3)"
   ]
  },
  {
   "cell_type": "code",
   "execution_count": 65,
   "metadata": {},
   "outputs": [
    {
     "name": "stdout",
     "output_type": "stream",
     "text": [
      "\n",
      "\n",
      "Assistant: \n",
      "\n",
      "In the land of the mountains and the rivers,\n",
      "Where the sun sets with a golden vision,\n",
      "Lies a country, Pakistan,\n",
      "A place of beauty, a place of passion.\n",
      "\n",
      "With its rich history and culture,\n",
      "A tapestry of traditions, a cultural treasure,\n",
      "Pakistan stands tall,\n",
      "A nation with a story to tell.\n",
      "\n",
      "From the ancient Indus Valley,\n",
      "To the Mughal Empire's glory,\n",
      "Pakistan has seen it all,\n",
      "A land of stories, both big and small.\n",
      "\n",
      "In the valleys of Swat,\n",
      "Where the rivers flow,\n",
      "Lies a beauty, a sight,\n",
      "A place where the heart takes flight.\n",
      "\n",
      "In the mountains of the Karakoram,\n",
      "Where the snowflakes fall,\n",
      "Lies a wonder, a sight,\n",
      "A place where the soul can call.\n",
      "\n",
      "In the cities of Lahore,\n",
      "Where the lights shine bright,\n",
      "Lies a charm, a beauty,\n",
      "A place where the stars ignite.\n",
      "\n",
      "In the fields of Punjab,\n",
      "Where the crops grow,\n",
      "Lies a bounty, a harvest,\n",
      "A place where the earth can flow.\n",
      "\n",
      "In the deserts of Balochistan,\n",
      "Where the winds blow,\n",
      "Lies a mystery, a wonder,\n",
      "A place where the secrets can show.\n",
      "\n",
      "Pakistan, a land of contrasts,\n",
      "A land of diversity,\n",
      "A land of unity,\n",
      "A land of harmony.\n",
      "\n",
      "A land of dreams,\n",
      "A land of hope,\n",
      "A land of promise,\n",
      "A land that can cope.\n",
      "\n",
      "Pakistan, a country of pride,\n",
      "A country of strength,\n",
      "A country of resilience,\n",
      "A country that can length.\n",
      "\n",
      "So let us celebrate,\n",
      "This beautiful land,\n",
      "A land of wonders,\n",
      "A land that can stand.\n",
      "\n",
      "Pakistan, a land of love,\n",
      "A land of peace,\n",
      "A land of unity,\n",
      "A land that can never cease.\n",
      "\n",
      "Let us cherish,\n",
      "This land of ours,\n",
      "A land of beauty,\n",
      "A land that we adore.\n",
      "\n",
      "Pakistan, a land of grace,\n",
      "A land of honor,\n",
      "A land of pride\n"
     ]
    }
   ],
   "source": [
    "response = hf_llm.invoke(\"Generate a poem about Pakistan?\")\n",
    "print(response)"
   ]
  },
  {
   "cell_type": "markdown",
   "metadata": {},
   "source": [
    "### Prompts"
   ]
  },
  {
   "cell_type": "code",
   "execution_count": 8,
   "metadata": {},
   "outputs": [],
   "source": [
    "from langchain_core.prompts import PromptTemplate"
   ]
  },
  {
   "cell_type": "code",
   "execution_count": 8,
   "metadata": {},
   "outputs": [
    {
     "data": {
      "text/plain": [
       "'Tell me the major strengths of Pakistan as a list. Just provide names.'"
      ]
     },
     "execution_count": 8,
     "metadata": {},
     "output_type": "execute_result"
    }
   ],
   "source": [
    "# how a simple prompt works?\n",
    "prompt_template = PromptTemplate(\n",
    "    input_variables = ['country'],\n",
    "    template = \"\"\"Tell me the major strengths of {country} as a list. Just provide names.\"\"\"\n",
    ")\n",
    "\n",
    "prompt_template.format(country=\"Pakistan\")"
   ]
  },
  {
   "cell_type": "code",
   "execution_count": 9,
   "metadata": {},
   "outputs": [
    {
     "data": {
      "text/plain": [
       "'Here are some major strengths of Pakistan:\\n\\n* **Strategic Location**\\n* **Young and Growing Population**\\n* **Rich Natural Resources**\\n* **Strong Agricultural Sector**\\n* **Textile Industry**\\n* **IT and Software Development**\\n* **Military Power**\\n* **Nuclear Capability**\\n* **Cultural Diversity**\\n* **Resilience and Adaptability** \\n'"
      ]
     },
     "execution_count": 9,
     "metadata": {},
     "output_type": "execute_result"
    }
   ],
   "source": [
    "# using prompt template to answer queries\n",
    "response = gllm.invoke(prompt_template.format(country=\"Pakistan\"))\n",
    "print(response)"
   ]
  },
  {
   "cell_type": "markdown",
   "metadata": {},
   "source": [
    "### Simple Chain using |"
   ]
  },
  {
   "cell_type": "code",
   "execution_count": 15,
   "metadata": {},
   "outputs": [
    {
     "name": "stdout",
     "output_type": "stream",
     "text": [
      "Here are some major strengths of India:\n",
      "\n",
      "* **Large and Growing Population**\n",
      "* **Young Demographics**\n",
      "* **Diverse Economy**\n",
      "* **Strong IT Sector**\n",
      "* **Growing Middle Class**\n",
      "* **Abundant Natural Resources**\n",
      "* **Democratic System**\n",
      "* **Cultural Heritage**\n",
      "* **Strategic Location**\n",
      "* **Increasing Investment**\n",
      "* **Technological Advancements**\n",
      "* **Space Program**\n",
      "* **Pharmaceutical Industry**\n",
      "* **Agricultural Potential**\n",
      "* **Resilience** \n",
      "\n"
     ]
    }
   ],
   "source": [
    "# using chain to streamline the process\n",
    "gllm_chain = prompt_template | gllm\n",
    "\n",
    "response = gllm_chain.invoke(\"India\")\n",
    "print(response)"
   ]
  },
  {
   "cell_type": "markdown",
   "metadata": {},
   "source": [
    "### Simple chain with multiple inputs"
   ]
  },
  {
   "cell_type": "code",
   "execution_count": 32,
   "metadata": {},
   "outputs": [
    {
     "data": {
      "text/plain": [
       "\"Can you provide me the professional contact details of shaukat, the patwari, as a list?\\n    If you can't then just say you don't have the information.\""
      ]
     },
     "execution_count": 32,
     "metadata": {},
     "output_type": "execute_result"
    }
   ],
   "source": [
    "multiinput_prompt_template = PromptTemplate(\n",
    "    input_variables = ['name', 'profession'],\n",
    "    template = \"\"\"Can you provide me the professional contact details of {name}, the {profession}, as a list?\n",
    "    If you can't then just say you don't have the information.\"\"\"\n",
    ")\n",
    "\n",
    "multiinput_prompt_template.format(name='shaukat', profession='patwari')"
   ]
  },
  {
   "cell_type": "code",
   "execution_count": 33,
   "metadata": {},
   "outputs": [],
   "source": [
    "gllm_chain = multiinput_prompt_template | gllm"
   ]
  },
  {
   "cell_type": "code",
   "execution_count": 34,
   "metadata": {},
   "outputs": [
    {
     "name": "stdout",
     "output_type": "stream",
     "text": [
      "I do not have access to personal information like contact details, including those of ML engineers named Shaukat. \n",
      "\n"
     ]
    }
   ],
   "source": [
    "gllm_chain = multiinput_prompt_template | gllm\n",
    "response = gllm_chain.invoke({'name':'shaukat', 'profession':'ML engineer'})\n",
    "print(response)"
   ]
  },
  {
   "cell_type": "markdown",
   "metadata": {},
   "source": [
    "### Chaining multiple chains ( SequentialChain )"
   ]
  },
  {
   "cell_type": "code",
   "execution_count": 2,
   "metadata": {},
   "outputs": [],
   "source": [
    "from langchain.chains import LLMChain\n",
    "from langchain.chains import SequentialChain"
   ]
  },
  {
   "cell_type": "markdown",
   "metadata": {},
   "source": [
    "#### Getting last chain output as response"
   ]
  },
  {
   "cell_type": "code",
   "execution_count": 39,
   "metadata": {},
   "outputs": [],
   "source": [
    "# chaining chain1 (to find capital of provided country) with chain2 (find places to visit inside the capital)\n",
    "\n",
    "captital_finder_template = PromptTemplate(\n",
    "    input_variables = ['country'],\n",
    "    template = \"\"\"Tell me the capital of {country}. Just give me the name.\"\"\"\n",
    ")\n",
    "capital_finder_chain = LLMChain(llm=gllm, prompt=captital_finder_template, output_key = 'city')\n",
    "\n",
    "places_finder_template = PromptTemplate(\n",
    "    input_variables = ['city'],\n",
    "    template = \"\"\"Tell me a list of some places of visit in {city}. Also provide short (max 2 lines) description as reason to vist.\"\"\"\n",
    ")\n",
    "places_finder_chain = LLMChain(prompt=places_finder_template, llm=gllm)\n",
    "\n",
    "find_capital_and_places_to_visit_init = SequentialChain(chains=[capital_finder_chain, places_finder_chain], input_variables=['country'], verbose=True)"
   ]
  },
  {
   "cell_type": "code",
   "execution_count": 42,
   "metadata": {},
   "outputs": [
    {
     "name": "stdout",
     "output_type": "stream",
     "text": [
      "\n",
      "\n",
      "\u001b[1m> Entering new SequentialChain chain...\u001b[0m\n",
      "\n",
      "\u001b[1m> Finished chain.\u001b[0m\n",
      "{'country': 'Pakistan', 'text': '## Places to Visit in Islamabad:\\n\\n**Historical & Cultural:**\\n\\n* **Faisal Mosque:** The largest mosque in South Asia, known for its unique architectural design and stunning views of the city.\\n* **Pakistan Monument:** A grand monument showcasing the history and culture of Pakistan, with a beautiful view of the Margalla Hills.\\n* **Lok Virsa Museum:** A museum dedicated to showcasing the diverse cultural heritage of Pakistan, with traditional crafts, music, and dance performances.\\n* **Shakarparian:** A scenic park with a panoramic view of the city, offering hiking trails and picnic spots.\\n\\n**Nature & Parks:**\\n\\n* **Margalla Hills:** A range of hills offering hiking trails, scenic viewpoints, and opportunities for rock climbing and paragliding.\\n* **Rose & Jasmine Garden:** A beautiful garden with a variety of flowers, perfect for a relaxing stroll or a picnic.\\n* **Lake View Park:** A park with a beautiful lake, offering boating facilities and a peaceful atmosphere.\\n* **Daman-e-Koh:** A scenic viewpoint offering breathtaking views of the city and the surrounding mountains.\\n\\n**Shopping & Entertainment:**\\n\\n* **Centaurus Mall:** A large shopping mall with a variety of stores, restaurants, and entertainment options.\\n* **F-6 Markaz:** A bustling market area with a variety of shops, restaurants, and street food vendors.\\n* **Jinnah Super Market:** A popular shopping area with a mix of high-end and budget-friendly stores.\\n* **Islamabad Zoo:** A zoo with a variety of animals, perfect for a family outing.\\n\\n**Other:**\\n\\n* **Pakistan National Council of Arts (PNCA):** A cultural center hosting art exhibitions, workshops, and performances.\\n* **National Museum of Natural History:** A museum showcasing the natural history of Pakistan, with exhibits on geology, wildlife, and botany.\\n* **Pakistan Institute of Medical Sciences (PIMS):** A renowned medical facility offering a wide range of healthcare services.\\n'}\n"
     ]
    }
   ],
   "source": [
    "response = find_capital_and_places_to_visit_init.invoke({'country': 'Pakistan'})\n",
    "print(response)"
   ]
  },
  {
   "cell_type": "code",
   "execution_count": 43,
   "metadata": {},
   "outputs": [
    {
     "name": "stdout",
     "output_type": "stream",
     "text": [
      "{'country': 'Pakistan', 'text': '## Places to Visit in Islamabad:\\n\\n**Historical & Cultural:**\\n\\n* **Faisal Mosque:** The largest mosque in South Asia, known for its unique architectural design and stunning views of the city.\\n* **Pakistan Monument:** A grand monument showcasing the history and culture of Pakistan, with a beautiful view of the Margalla Hills.\\n* **Lok Virsa Museum:** A museum dedicated to showcasing the diverse cultural heritage of Pakistan, with traditional crafts, music, and dance performances.\\n* **Shakarparian:** A scenic park with a panoramic view of the city, offering hiking trails and picnic spots.\\n\\n**Nature & Parks:**\\n\\n* **Margalla Hills:** A range of hills offering hiking trails, scenic viewpoints, and opportunities for rock climbing and paragliding.\\n* **Rose & Jasmine Garden:** A beautiful garden with a variety of flowers, perfect for a relaxing stroll or a picnic.\\n* **Lake View Park:** A park with a beautiful lake, offering boating facilities and a peaceful atmosphere.\\n* **Daman-e-Koh:** A scenic viewpoint offering breathtaking views of the city and the surrounding mountains.\\n\\n**Shopping & Entertainment:**\\n\\n* **Centaurus Mall:** A large shopping mall with a variety of stores, restaurants, and entertainment options.\\n* **F-6 Markaz:** A bustling market area with a variety of shops, restaurants, and street food vendors.\\n* **Jinnah Super Market:** A popular shopping area with a mix of high-end and budget-friendly stores.\\n* **Islamabad Zoo:** A zoo with a variety of animals, perfect for a family outing.\\n\\n**Other:**\\n\\n* **Pakistan National Council of Arts (PNCA):** A cultural center hosting art exhibitions, workshops, and performances.\\n* **National Museum of Natural History:** A museum showcasing the natural history of Pakistan, with exhibits on geology, wildlife, and botany.\\n* **Pakistan Institute of Medical Sciences (PIMS):** A renowned medical facility offering a wide range of healthcare services.\\n'}\n"
     ]
    }
   ],
   "source": [
    "print(response)"
   ]
  },
  {
   "cell_type": "code",
   "execution_count": 44,
   "metadata": {},
   "outputs": [
    {
     "name": "stdout",
     "output_type": "stream",
     "text": [
      "## Places to Visit in Islamabad:\n",
      "\n",
      "**Historical & Cultural:**\n",
      "\n",
      "* **Faisal Mosque:** The largest mosque in South Asia, known for its unique architectural design and stunning views of the city.\n",
      "* **Pakistan Monument:** A grand monument showcasing the history and culture of Pakistan, with a beautiful view of the Margalla Hills.\n",
      "* **Lok Virsa Museum:** A museum dedicated to showcasing the diverse cultural heritage of Pakistan, with traditional crafts, music, and dance performances.\n",
      "* **Shakarparian:** A scenic park with a panoramic view of the city, offering hiking trails and picnic spots.\n",
      "\n",
      "**Nature & Parks:**\n",
      "\n",
      "* **Margalla Hills:** A range of hills offering hiking trails, scenic viewpoints, and opportunities for rock climbing and paragliding.\n",
      "* **Rose & Jasmine Garden:** A beautiful garden with a variety of flowers, perfect for a relaxing stroll or a picnic.\n",
      "* **Lake View Park:** A park with a beautiful lake, offering boating facilities and a peaceful atmosphere.\n",
      "* **Daman-e-Koh:** A scenic viewpoint offering breathtaking views of the city and the surrounding mountains.\n",
      "\n",
      "**Shopping & Entertainment:**\n",
      "\n",
      "* **Centaurus Mall:** A large shopping mall with a variety of stores, restaurants, and entertainment options.\n",
      "* **F-6 Markaz:** A bustling market area with a variety of shops, restaurants, and street food vendors.\n",
      "* **Jinnah Super Market:** A popular shopping area with a mix of high-end and budget-friendly stores.\n",
      "* **Islamabad Zoo:** A zoo with a variety of animals, perfect for a family outing.\n",
      "\n",
      "**Other:**\n",
      "\n",
      "* **Pakistan National Council of Arts (PNCA):** A cultural center hosting art exhibitions, workshops, and performances.\n",
      "* **National Museum of Natural History:** A museum showcasing the natural history of Pakistan, with exhibits on geology, wildlife, and botany.\n",
      "* **Pakistan Institute of Medical Sciences (PIMS):** A renowned medical facility offering a wide range of healthcare services.\n",
      "\n"
     ]
    }
   ],
   "source": [
    "print(response['text'])"
   ]
  },
  {
   "cell_type": "markdown",
   "metadata": {},
   "source": [
    "We're getting the input and the last result in the output. But now let's get all the outputs in the response."
   ]
  },
  {
   "cell_type": "markdown",
   "metadata": {},
   "source": [
    "#### Getting output of all the chains"
   ]
  },
  {
   "cell_type": "code",
   "execution_count": 9,
   "metadata": {},
   "outputs": [
    {
     "name": "stderr",
     "output_type": "stream",
     "text": [
      "C:\\Users\\Dmm\\AppData\\Local\\Temp\\ipykernel_11196\\1888784332.py:8: LangChainDeprecationWarning: The class `LLMChain` was deprecated in LangChain 0.1.17 and will be removed in 1.0. Use RunnableSequence, e.g., `prompt | llm` instead.\n",
      "  capital_finder_chain = LLMChain(llm=gllm, prompt=captital_finder_template, output_key = 'city')\n"
     ]
    }
   ],
   "source": [
    "# getting the output of all the chains in the response. We'll use the same example\n",
    "# chaining chain1 (to find capital of provided country) with chain2 (find places to visit inside the capital)\n",
    "\n",
    "captital_finder_template = PromptTemplate(\n",
    "    input_variables = ['country'],\n",
    "    template = \"\"\"Tell me the capital of {country}. Just give me the name.\"\"\"\n",
    ")\n",
    "capital_finder_chain = LLMChain(llm=gllm, prompt=captital_finder_template, output_key = 'city')\n",
    "\n",
    "places_finder_template = PromptTemplate(\n",
    "    input_variables = ['city'],\n",
    "    template = \"\"\"Tell me a list of some places of visit in {city}. Also provide short (max 2 lines) description as reason to vist.\"\"\"\n",
    ")\n",
    "places_finder_chain = LLMChain(prompt=places_finder_template, llm=gllm, output_key = 'places')\n",
    "\n",
    "find_capital_and_places_to_visit_init = SequentialChain(chains=[capital_finder_chain, places_finder_chain], \n",
    "                                                        input_variables=['country'],\n",
    "                                                        output_variables=['city', 'places'],\n",
    "                                                        verbose=True)"
   ]
  },
  {
   "cell_type": "code",
   "execution_count": 10,
   "metadata": {},
   "outputs": [
    {
     "name": "stdout",
     "output_type": "stream",
     "text": [
      "\n",
      "\n",
      "\u001b[1m> Entering new SequentialChain chain...\u001b[0m\n",
      "\n",
      "\u001b[1m> Finished chain.\u001b[0m\n",
      "{'country': 'Pakistan', 'city': 'Islamabad \\n', 'places': '## Places to Visit in Islamabad:\\n\\n**Historical & Cultural:**\\n\\n* **Faisal Mosque:** One of the largest mosques in the world, with stunning architecture and a unique design. \\n* **Pakistan Monument:** A beautiful monument showcasing the history and culture of Pakistan, with a panoramic view of the city.\\n* **Lok Virsa Museum:** Explore the rich heritage and traditions of Pakistan through interactive exhibits and cultural performances.\\n* **Shakarparian:** A scenic hilltop park offering breathtaking views of the city, perfect for picnics and relaxation.\\n\\n**Parks & Gardens:**\\n\\n* **Rose & Jasmine Garden:** A beautiful garden with a variety of flowers, ideal for a peaceful stroll.\\n* **Japanese Garden:** A serene and tranquil garden with traditional Japanese elements, perfect for a relaxing escape.\\n* **Lake View Park:** A popular park with a beautiful lake, offering boating facilities and scenic views.\\n* **Margalla Hills National Park:** Hike or trek through the scenic Margalla Hills, enjoying breathtaking views and fresh air.\\n\\n**Other Attractions:**\\n\\n* **Daman-e-Koh:** A scenic viewpoint offering panoramic views of the city, perfect for sunset watching.\\n* **Pakistan National Council of Arts (PNCA):** Explore contemporary art and cultural events at this vibrant art center.\\n* **Islamabad Zoo:** Home to a variety of animals, offering a fun and educational experience for families.\\n* **Monal Restaurant:** Enjoy delicious Pakistani cuisine and breathtaking views from this iconic restaurant on the Margalla Hills. \\n'}\n"
     ]
    }
   ],
   "source": [
    "response = find_capital_and_places_to_visit_init.invoke({'country': 'Pakistan'})\n",
    "print(response)"
   ]
  },
  {
   "cell_type": "code",
   "execution_count": 11,
   "metadata": {},
   "outputs": [
    {
     "data": {
      "text/plain": [
       "dict_keys(['country', 'city', 'places'])"
      ]
     },
     "execution_count": 11,
     "metadata": {},
     "output_type": "execute_result"
    }
   ],
   "source": [
    "response.keys()"
   ]
  },
  {
   "cell_type": "code",
   "execution_count": 13,
   "metadata": {},
   "outputs": [
    {
     "name": "stdout",
     "output_type": "stream",
     "text": [
      "country: Pakistan\n",
      "city: Islamabad \n",
      "\n",
      "places: ## Places to Visit in Islamabad:\n",
      "\n",
      "**Historical & Cultural:**\n",
      "\n",
      "* **Faisal Mosque:** One of the largest mosques in the world, with stunning architecture and a unique design. \n",
      "* **Pakistan Monument:** A beautiful monument showcasing the history and culture of Pakistan, with a panoramic view of the city.\n",
      "* **Lok Virsa Museum:** Explore the rich heritage and traditions of Pakistan through interactive exhibits and cultural performances.\n",
      "* **Shakarparian:** A scenic hilltop park offering breathtaking views of the city, perfect for picnics and relaxation.\n",
      "\n",
      "**Parks & Gardens:**\n",
      "\n",
      "* **Rose & Jasmine Garden:** A beautiful garden with a variety of flowers, ideal for a peaceful stroll.\n",
      "* **Japanese Garden:** A serene and tranquil garden with traditional Japanese elements, perfect for a relaxing escape.\n",
      "* **Lake View Park:** A popular park with a beautiful lake, offering boating facilities and scenic views.\n",
      "* **Margalla Hills National Park:** Hike or trek through the scenic Margalla Hills, enjoying breathtaking views and fresh air.\n",
      "\n",
      "**Other Attractions:**\n",
      "\n",
      "* **Daman-e-Koh:** A scenic viewpoint offering panoramic views of the city, perfect for sunset watching.\n",
      "* **Pakistan National Council of Arts (PNCA):** Explore contemporary art and cultural events at this vibrant art center.\n",
      "* **Islamabad Zoo:** Home to a variety of animals, offering a fun and educational experience for families.\n",
      "* **Monal Restaurant:** Enjoy delicious Pakistani cuisine and breathtaking views from this iconic restaurant on the Margalla Hills. \n",
      "\n"
     ]
    }
   ],
   "source": [
    "for key, value in response.items():\n",
    "    print(f\"{key}: {value}\")"
   ]
  },
  {
   "cell_type": "markdown",
   "metadata": {},
   "source": [
    "## Using ChatModel"
   ]
  },
  {
   "cell_type": "markdown",
   "metadata": {},
   "source": [
    "### Google Chatmodel example from google"
   ]
  },
  {
   "cell_type": "code",
   "execution_count": 17,
   "metadata": {},
   "outputs": [],
   "source": [
    "import google.generativeai as genai"
   ]
  },
  {
   "cell_type": "code",
   "execution_count": 18,
   "metadata": {},
   "outputs": [],
   "source": [
    "genai.configure(api_key=os.getenv('GOOGLE_API_KEY'))\n",
    "gmodel = genai.GenerativeModel('gemini-1.5-flash')"
   ]
  },
  {
   "cell_type": "code",
   "execution_count": 30,
   "metadata": {},
   "outputs": [],
   "source": [
    "g_chat_model = gmodel.start_chat(\n",
    "    history = [\n",
    "        {\n",
    "            'role': 'model',\n",
    "            'parts': 'You are a comedian.'\n",
    "        }\n",
    "        # ,\n",
    "        # {\n",
    "        #     'role': 'user',\n",
    "        #     'parts': 'Tell me a joke about money.'\n",
    "        # }\n",
    "    ]\n",
    ")"
   ]
  },
  {
   "cell_type": "code",
   "execution_count": 31,
   "metadata": {},
   "outputs": [
    {
     "name": "stdout",
     "output_type": "stream",
     "text": [
      "Why did the scarecrow win an award? \n",
      "\n",
      "Because he was outstanding in his field! \n",
      "\n",
      "...And you know what they say, money doesn't grow on trees, but it does seem to grow in my bank account... *checks wallet, shrugs*  Never mind. \n",
      "\n"
     ]
    }
   ],
   "source": [
    "# first message\n",
    "response = g_chat_model.send_message(\"Tell me a joke about money.\")\n",
    "print(response.text)"
   ]
  },
  {
   "cell_type": "code",
   "execution_count": 32,
   "metadata": {},
   "outputs": [
    {
     "name": "stdout",
     "output_type": "stream",
     "text": [
      "As an AI, I have no memory of past conversations. Each interaction starts fresh. \n",
      "\n",
      "To help me understand your needs better, could you please tell me what your first message was?  I'm ready to assist! 😊 \n",
      "\n"
     ]
    }
   ],
   "source": [
    "# 2nd message\n",
    "response = g_chat_model.send_message(\"What was my 1st message?\")\n",
    "print(response.text)"
   ]
  },
  {
   "cell_type": "markdown",
   "metadata": {},
   "source": [
    "I guess we need to maintain the history. But let's do that using langchain."
   ]
  },
  {
   "cell_type": "markdown",
   "metadata": {},
   "source": [
    "### Chat Model using Google X Langchain"
   ]
  },
  {
   "cell_type": "markdown",
   "metadata": {},
   "source": [
    "#### Example of Schemas"
   ]
  },
  {
   "cell_type": "code",
   "execution_count": 39,
   "metadata": {},
   "outputs": [],
   "source": [
    "from langchain_google_genai import ChatGoogleGenerativeAI\n",
    "from langchain_core.messages import HumanMessage, AIMessage, SystemMessage"
   ]
  },
  {
   "cell_type": "code",
   "execution_count": 52,
   "metadata": {},
   "outputs": [],
   "source": [
    "messages = [\n",
    "    SystemMessage(content=\"You are a philosopher. You've to provide a quote on the asked subject.\"),\n",
    "    HumanMessage(content=\"money\")\n",
    "]\n",
    "\n",
    "g_chatmodel = ChatGoogleGenerativeAI(model='gemini-1.5-flash')"
   ]
  },
  {
   "cell_type": "code",
   "execution_count": 53,
   "metadata": {},
   "outputs": [
    {
     "name": "stdout",
     "output_type": "stream",
     "text": [
      "\"Money is a tool, not a master. It can be a powerful instrument for good, but only when wielded with wisdom and compassion. To chase it blindly is to become its slave, for it offers fleeting comfort but no true fulfillment.\" \n",
      "\n"
     ]
    }
   ],
   "source": [
    "response = g_chatmodel.invoke(messages)\n",
    "print(response.content)"
   ]
  },
  {
   "cell_type": "markdown",
   "metadata": {},
   "source": [
    "#### Chat Model Building"
   ]
  },
  {
   "cell_type": "code",
   "execution_count": 54,
   "metadata": {},
   "outputs": [],
   "source": [
    "from langchain_core.prompts import ChatPromptTemplate\n",
    "from langchain_core.output_parsers import BaseOutputParser"
   ]
  },
  {
   "cell_type": "code",
   "execution_count": null,
   "metadata": {},
   "outputs": [],
   "source": [
    "# defining custom parser to format/parse the output\n",
    "class CommaSeparatedParser(BaseOutputParser):\n",
    "    def parse(self, output: str):\n",
    "        return output.strip().split()\n",
    "    \n",
    "messages = [\n",
    "    SystemMessage(content=\"You are a philosopher. You've to provide a quote on the asked subject.\"),\n",
    "    HumanMessage(content=\"{subject}\")\n",
    "]\n",
    "\n",
    "chat_prompt_template = ChatPromptTemplate.from_messages(messages)\n",
    "chat_model = ChatGoogleGenerativeAI(model='gemini-1.5-flash')\n",
    "parser = CommaSeparatedParser()\n",
    "\n",
    "chat_model_chain = chat_prompt_template | chat_model | parser"
   ]
  },
  {
   "cell_type": "code",
   "execution_count": 82,
   "metadata": {},
   "outputs": [],
   "source": [
    "# defining custom parser to format/parse the output\n",
    "class CommaSeparatedParser(BaseOutputParser):\n",
    "    def parse(self, output: str):\n",
    "        return output.strip().split(\".\")\n",
    "    \n",
    "messages = [\n",
    "    (\"system\", \"You are a philosopher. You've to provide a quote on the asked subject.\"),\n",
    "    (\"human\", \"{subject}\")\n",
    "]\n",
    "\n",
    "chat_prompt_template = ChatPromptTemplate.from_messages(messages)\n",
    "chat_model = ChatGoogleGenerativeAI(model='gemini-1.5-flash')\n",
    "parser = CommaSeparatedParser()\n",
    "\n",
    "chat_model_chain = chat_prompt_template | chat_model | parser"
   ]
  },
  {
   "cell_type": "code",
   "execution_count": 78,
   "metadata": {},
   "outputs": [
    {
     "name": "stdout",
     "output_type": "stream",
     "text": [
      "['\"The laptop, a curious paradox: a window to infinite knowledge, yet a barrier to genuine connection. It promises liberation, but often confines us to the digital realm.  We must use it wisely, lest we become slaves to its flickering screen, forgetting the beauty and complexity of the world beyond.\"']\n"
     ]
    }
   ],
   "source": [
    "response = chat_model_chain.invoke({\"subject\": \"Laptop\"})\n",
    "print(response)"
   ]
  },
  {
   "cell_type": "code",
   "execution_count": 83,
   "metadata": {},
   "outputs": [
    {
     "name": "stdout",
     "output_type": "stream",
     "text": [
      "['\"The laptop, a portable portal to infinite knowledge and boundless creativity, is a testament to the ingenuity of the human spirit', ' Yet, like any tool, it is only as powerful as the mind that wields it', ' Let us not become slaves to the screen, but masters of the information it holds, using it to explore the world, connect with others, and build a brighter future', '\"']\n"
     ]
    }
   ],
   "source": [
    "response = chat_model_chain.invoke({\"subject\": \"Laptop\"})\n",
    "print(response)"
   ]
  },
  {
   "cell_type": "markdown",
   "metadata": {},
   "source": [
    "This is the workflow, we can maintain history but appending the response as AI message in the messages and keep the chat going. See the project: "
   ]
  },
  {
   "cell_type": "code",
   "execution_count": null,
   "metadata": {},
   "outputs": [],
   "source": []
  }
 ],
 "metadata": {
  "kernelspec": {
   "display_name": "langchain",
   "language": "python",
   "name": "python3"
  },
  "language_info": {
   "codemirror_mode": {
    "name": "ipython",
    "version": 3
   },
   "file_extension": ".py",
   "mimetype": "text/x-python",
   "name": "python",
   "nbconvert_exporter": "python",
   "pygments_lexer": "ipython3",
   "version": "3.12.4"
  }
 },
 "nbformat": 4,
 "nbformat_minor": 2
}
